{
 "cells": [
  {
   "attachments": {},
   "cell_type": "markdown",
   "metadata": {
    "collapsed": false
   },
   "source": [
    "## Product Import Data ETL"
   ]
  },
  {
   "attachments": {},
   "cell_type": "markdown",
   "metadata": {
    "collapsed": false
   },
   "source": [
    "## Load JSON with countries and CSV with codes"
   ]
  },
  {
   "cell_type": "code",
   "execution_count": 4,
   "metadata": {
    "collapsed": false
   },
   "outputs": [
    {
     "data": {
      "text/html": [
       "<div>\n",
       "<style scoped>\n",
       "    .dataframe tbody tr th:only-of-type {\n",
       "        vertical-align: middle;\n",
       "    }\n",
       "\n",
       "    .dataframe tbody tr th {\n",
       "        vertical-align: top;\n",
       "    }\n",
       "\n",
       "    .dataframe thead th {\n",
       "        text-align: right;\n",
       "    }\n",
       "</style>\n",
       "<table border=\"1\" class=\"dataframe\">\n",
       "  <thead>\n",
       "    <tr style=\"text-align: right;\">\n",
       "      <th></th>\n",
       "      <th>Order</th>\n",
       "      <th>Level</th>\n",
       "      <th>Code</th>\n",
       "      <th>Parent</th>\n",
       "      <th>Code_comm</th>\n",
       "      <th>Parent.1</th>\n",
       "      <th>Description_complex</th>\n",
       "      <th>Description</th>\n",
       "    </tr>\n",
       "  </thead>\n",
       "  <tbody>\n",
       "    <tr>\n",
       "      <th>0</th>\n",
       "      <td>1654555</td>\n",
       "      <td>1</td>\n",
       "      <td>0</td>\n",
       "      <td>NaN</td>\n",
       "      <td>NaN</td>\n",
       "      <td>NaN</td>\n",
       "      <td>This classification has been uploaded in RAMON...</td>\n",
       "      <td>This classification has been uploaded in RAMON...</td>\n",
       "    </tr>\n",
       "    <tr>\n",
       "      <th>1</th>\n",
       "      <td>1654556</td>\n",
       "      <td>1</td>\n",
       "      <td>10011000090</td>\n",
       "      <td>NaN</td>\n",
       "      <td>I</td>\n",
       "      <td>NaN</td>\n",
       "      <td>SECTION I - LIVE ANIMALS; ANIMAL PRODUCTS</td>\n",
       "      <td>LIVE ANIMALS; ANIMAL PRODUCTS</td>\n",
       "    </tr>\n",
       "    <tr>\n",
       "      <th>2</th>\n",
       "      <td>1654557</td>\n",
       "      <td>2</td>\n",
       "      <td>10021000090</td>\n",
       "      <td>1.001100e+10</td>\n",
       "      <td>1</td>\n",
       "      <td>I</td>\n",
       "      <td>CHAPTER 1 - LIVE ANIMALS</td>\n",
       "      <td>LIVE ANIMALS</td>\n",
       "    </tr>\n",
       "    <tr>\n",
       "      <th>3</th>\n",
       "      <td>1654558</td>\n",
       "      <td>3</td>\n",
       "      <td>10100000080</td>\n",
       "      <td>1.002100e+10</td>\n",
       "      <td>1.01</td>\n",
       "      <td>1</td>\n",
       "      <td>Live horses, asses, mules and hinnies</td>\n",
       "      <td>Live horses, asses, mules and hinnies</td>\n",
       "    </tr>\n",
       "    <tr>\n",
       "      <th>4</th>\n",
       "      <td>1654559</td>\n",
       "      <td>4</td>\n",
       "      <td>10121000010</td>\n",
       "      <td>1.010000e+10</td>\n",
       "      <td>NaN</td>\n",
       "      <td>1.01</td>\n",
       "      <td>- Horses</td>\n",
       "      <td>NaN</td>\n",
       "    </tr>\n",
       "  </tbody>\n",
       "</table>\n",
       "</div>"
      ],
      "text/plain": [
       "     Order  Level         Code        Parent Code_comm Parent.1  \\\n",
       "0  1654555      1            0           NaN       NaN      NaN   \n",
       "1  1654556      1  10011000090           NaN         I      NaN   \n",
       "2  1654557      2  10021000090  1.001100e+10         1        I   \n",
       "3  1654558      3  10100000080  1.002100e+10      1.01        1   \n",
       "4  1654559      4  10121000010  1.010000e+10       NaN     1.01   \n",
       "\n",
       "                                 Description_complex  \\\n",
       "0  This classification has been uploaded in RAMON...   \n",
       "1          SECTION I - LIVE ANIMALS; ANIMAL PRODUCTS   \n",
       "2                           CHAPTER 1 - LIVE ANIMALS   \n",
       "3              Live horses, asses, mules and hinnies   \n",
       "4                                           - Horses   \n",
       "\n",
       "                                         Description  \n",
       "0  This classification has been uploaded in RAMON...  \n",
       "1                      LIVE ANIMALS; ANIMAL PRODUCTS  \n",
       "2                                       LIVE ANIMALS  \n",
       "3              Live horses, asses, mules and hinnies  \n",
       "4                                                NaN  "
      ]
     },
     "execution_count": 4,
     "metadata": {},
     "output_type": "execute_result"
    }
   ],
   "source": [
    "import pandas as pd\n",
    "\n",
    "df_countries = pd.read_json('country_data.json')\n",
    "df_codes = pd.read_csv('hs_codes_67d0ca02-86f0-4829-8568-389ab67a38e5.csv')\n",
    "df_countries.head()\n",
    "df_codes.head()"
   ]
  },
  {
   "cell_type": "code",
   "execution_count": 5,
   "metadata": {
    "collapsed": false
   },
   "outputs": [
    {
     "data": {
      "text/plain": [
       "2                                CHAPTER 1 - LIVE ANIMALS\n",
       "52                 CHAPTER 2 - MEAT AND EDIBLE MEAT OFFAL\n",
       "140     CHAPTER 3 - FISH AND CRUSTACEANS, MOLLUSCS AND...\n",
       "416     CHAPTER 4 - DAIRY PRODUCE; BIRDS' EGGS; NATURA...\n",
       "463     CHAPTER 5 - PRODUCTS OF ANIMAL ORIGIN, NOT ELS...\n",
       "                              ...                        \n",
       "7238    CHAPTER 93 - ARMS AND AMMUNITION; PARTS AND AC...\n",
       "7264    CHAPTER 94 - FURNITURE; BEDDING, MATTRESSES, M...\n",
       "7319    CHAPTER 95 - TOYS, GAMES AND SPORTS REQUISITES...\n",
       "7362     CHAPTER 96 - MISCELLANEOUS MANUFACTURED ARTICLES\n",
       "7428    CHAPTER 97 - WORKS OF ART, COLLECTORS' PIECES ...\n",
       "Name: Description_complex, Length: 96, dtype: object"
      ]
     },
     "execution_count": 5,
     "metadata": {},
     "output_type": "execute_result"
    }
   ],
   "source": [
    "df_codes[df_codes['Level']==2].loc[:,'Description_complex']"
   ]
  },
  {
   "cell_type": "code",
   "execution_count": 6,
   "metadata": {
    "collapsed": false
   },
   "outputs": [
    {
     "data": {
      "text/html": [
       "<div>\n",
       "<style scoped>\n",
       "    .dataframe tbody tr th:only-of-type {\n",
       "        vertical-align: middle;\n",
       "    }\n",
       "\n",
       "    .dataframe tbody tr th {\n",
       "        vertical-align: top;\n",
       "    }\n",
       "\n",
       "    .dataframe thead th {\n",
       "        text-align: right;\n",
       "    }\n",
       "</style>\n",
       "<table border=\"1\" class=\"dataframe\">\n",
       "  <thead>\n",
       "    <tr style=\"text-align: right;\">\n",
       "      <th></th>\n",
       "      <th>Order</th>\n",
       "      <th>Level</th>\n",
       "      <th>Code</th>\n",
       "      <th>Parent</th>\n",
       "      <th>Code_comm</th>\n",
       "      <th>Parent.1</th>\n",
       "      <th>Description_complex</th>\n",
       "      <th>Description</th>\n",
       "    </tr>\n",
       "  </thead>\n",
       "  <tbody>\n",
       "    <tr>\n",
       "      <th>2</th>\n",
       "      <td>1654557</td>\n",
       "      <td>2</td>\n",
       "      <td>10021000090</td>\n",
       "      <td>1.001100e+10</td>\n",
       "      <td>1</td>\n",
       "      <td>I</td>\n",
       "      <td>CHAPTER 1 - LIVE ANIMALS</td>\n",
       "      <td>LIVE ANIMALS</td>\n",
       "    </tr>\n",
       "    <tr>\n",
       "      <th>52</th>\n",
       "      <td>1654607</td>\n",
       "      <td>2</td>\n",
       "      <td>20021000090</td>\n",
       "      <td>1.001100e+10</td>\n",
       "      <td>2</td>\n",
       "      <td>I</td>\n",
       "      <td>CHAPTER 2 - MEAT AND EDIBLE MEAT OFFAL</td>\n",
       "      <td>MEAT AND EDIBLE MEAT OFFAL</td>\n",
       "    </tr>\n",
       "    <tr>\n",
       "      <th>140</th>\n",
       "      <td>1654695</td>\n",
       "      <td>2</td>\n",
       "      <td>30021000090</td>\n",
       "      <td>1.001100e+10</td>\n",
       "      <td>3</td>\n",
       "      <td>I</td>\n",
       "      <td>CHAPTER 3 - FISH AND CRUSTACEANS, MOLLUSCS AND...</td>\n",
       "      <td>FISH AND CRUSTACEANS, MOLLUSCS AND OTHER AQUAT...</td>\n",
       "    </tr>\n",
       "    <tr>\n",
       "      <th>416</th>\n",
       "      <td>1654971</td>\n",
       "      <td>2</td>\n",
       "      <td>40021000090</td>\n",
       "      <td>1.001100e+10</td>\n",
       "      <td>4</td>\n",
       "      <td>I</td>\n",
       "      <td>CHAPTER 4 - DAIRY PRODUCE; BIRDS' EGGS; NATURA...</td>\n",
       "      <td>DAIRY PRODUCE; BIRDS' EGGS; NATURAL HONEY; EDI...</td>\n",
       "    </tr>\n",
       "    <tr>\n",
       "      <th>463</th>\n",
       "      <td>1655018</td>\n",
       "      <td>2</td>\n",
       "      <td>50021000090</td>\n",
       "      <td>1.001100e+10</td>\n",
       "      <td>5</td>\n",
       "      <td>I</td>\n",
       "      <td>CHAPTER 5 - PRODUCTS OF ANIMAL ORIGIN, NOT ELS...</td>\n",
       "      <td>PRODUCTS OF ANIMAL ORIGIN, NOT ELSEWHERE SPECI...</td>\n",
       "    </tr>\n",
       "  </tbody>\n",
       "</table>\n",
       "</div>"
      ],
      "text/plain": [
       "       Order  Level         Code        Parent Code_comm Parent.1  \\\n",
       "2    1654557      2  10021000090  1.001100e+10         1        I   \n",
       "52   1654607      2  20021000090  1.001100e+10         2        I   \n",
       "140  1654695      2  30021000090  1.001100e+10         3        I   \n",
       "416  1654971      2  40021000090  1.001100e+10         4        I   \n",
       "463  1655018      2  50021000090  1.001100e+10         5        I   \n",
       "\n",
       "                                   Description_complex  \\\n",
       "2                             CHAPTER 1 - LIVE ANIMALS   \n",
       "52              CHAPTER 2 - MEAT AND EDIBLE MEAT OFFAL   \n",
       "140  CHAPTER 3 - FISH AND CRUSTACEANS, MOLLUSCS AND...   \n",
       "416  CHAPTER 4 - DAIRY PRODUCE; BIRDS' EGGS; NATURA...   \n",
       "463  CHAPTER 5 - PRODUCTS OF ANIMAL ORIGIN, NOT ELS...   \n",
       "\n",
       "                                           Description  \n",
       "2                                         LIVE ANIMALS  \n",
       "52                          MEAT AND EDIBLE MEAT OFFAL  \n",
       "140  FISH AND CRUSTACEANS, MOLLUSCS AND OTHER AQUAT...  \n",
       "416  DAIRY PRODUCE; BIRDS' EGGS; NATURAL HONEY; EDI...  \n",
       "463  PRODUCTS OF ANIMAL ORIGIN, NOT ELSEWHERE SPECI...  "
      ]
     },
     "execution_count": 6,
     "metadata": {},
     "output_type": "execute_result"
    }
   ],
   "source": [
    "df_parents = df_codes[df_codes['Level']==2].copy()\n",
    "df_parents.head()"
   ]
  },
  {
   "attachments": {},
   "cell_type": "markdown",
   "metadata": {
    "collapsed": false
   },
   "source": [
    "#### DataTransformation"
   ]
  },
  {
   "attachments": {},
   "cell_type": "markdown",
   "metadata": {
    "collapsed": false
   },
   "source": [
    "##### Data Cleansing"
   ]
  },
  {
   "cell_type": "code",
   "execution_count": 7,
   "metadata": {
    "collapsed": false
   },
   "outputs": [
    {
     "data": {
      "text/html": [
       "<div>\n",
       "<style scoped>\n",
       "    .dataframe tbody tr th:only-of-type {\n",
       "        vertical-align: middle;\n",
       "    }\n",
       "\n",
       "    .dataframe tbody tr th {\n",
       "        vertical-align: top;\n",
       "    }\n",
       "\n",
       "    .dataframe thead th {\n",
       "        text-align: right;\n",
       "    }\n",
       "</style>\n",
       "<table border=\"1\" class=\"dataframe\">\n",
       "  <thead>\n",
       "    <tr style=\"text-align: right;\">\n",
       "      <th></th>\n",
       "      <th>Order</th>\n",
       "      <th>Level</th>\n",
       "      <th>Code</th>\n",
       "      <th>Parent</th>\n",
       "      <th>Code_comm</th>\n",
       "      <th>Parent.1</th>\n",
       "      <th>Description_complex</th>\n",
       "      <th>Description</th>\n",
       "    </tr>\n",
       "  </thead>\n",
       "  <tbody>\n",
       "    <tr>\n",
       "      <th>2</th>\n",
       "      <td>1654557</td>\n",
       "      <td>2</td>\n",
       "      <td>10021000090</td>\n",
       "      <td>1.001100e+10</td>\n",
       "      <td>1</td>\n",
       "      <td>I</td>\n",
       "      <td>CHAPTER 1 - LIVE ANIMALS</td>\n",
       "      <td>LIVE ANIMALS</td>\n",
       "    </tr>\n",
       "    <tr>\n",
       "      <th>52</th>\n",
       "      <td>1654607</td>\n",
       "      <td>2</td>\n",
       "      <td>20021000090</td>\n",
       "      <td>1.001100e+10</td>\n",
       "      <td>2</td>\n",
       "      <td>I</td>\n",
       "      <td>CHAPTER 2 - MEAT AND EDIBLE MEAT OFFAL</td>\n",
       "      <td>MEAT AND EDIBLE MEAT OFFAL</td>\n",
       "    </tr>\n",
       "    <tr>\n",
       "      <th>140</th>\n",
       "      <td>1654695</td>\n",
       "      <td>2</td>\n",
       "      <td>30021000090</td>\n",
       "      <td>1.001100e+10</td>\n",
       "      <td>3</td>\n",
       "      <td>I</td>\n",
       "      <td>CHAPTER 3 - FISH AND CRUSTACEANS, MOLLUSCS AND...</td>\n",
       "      <td>FISH AND CRUSTACEANS, MOLLUSCS AND OTHER AQUAT...</td>\n",
       "    </tr>\n",
       "    <tr>\n",
       "      <th>416</th>\n",
       "      <td>1654971</td>\n",
       "      <td>2</td>\n",
       "      <td>40021000090</td>\n",
       "      <td>1.001100e+10</td>\n",
       "      <td>4</td>\n",
       "      <td>I</td>\n",
       "      <td>CHAPTER 4 - DAIRY PRODUCE; BIRDS' EGGS; NATURA...</td>\n",
       "      <td>DAIRY PRODUCE; BIRDS' EGGS; NATURAL HONEY; EDI...</td>\n",
       "    </tr>\n",
       "    <tr>\n",
       "      <th>463</th>\n",
       "      <td>1655018</td>\n",
       "      <td>2</td>\n",
       "      <td>50021000090</td>\n",
       "      <td>1.001100e+10</td>\n",
       "      <td>5</td>\n",
       "      <td>I</td>\n",
       "      <td>CHAPTER 5 - PRODUCTS OF ANIMAL ORIGIN, NOT ELS...</td>\n",
       "      <td>PRODUCTS OF ANIMAL ORIGIN, NOT ELSEWHERE SPECI...</td>\n",
       "    </tr>\n",
       "    <tr>\n",
       "      <th>...</th>\n",
       "      <td>...</td>\n",
       "      <td>...</td>\n",
       "      <td>...</td>\n",
       "      <td>...</td>\n",
       "      <td>...</td>\n",
       "      <td>...</td>\n",
       "      <td>...</td>\n",
       "      <td>...</td>\n",
       "    </tr>\n",
       "    <tr>\n",
       "      <th>7238</th>\n",
       "      <td>1661793</td>\n",
       "      <td>2</td>\n",
       "      <td>930021000090</td>\n",
       "      <td>9.300110e+11</td>\n",
       "      <td>93</td>\n",
       "      <td>XIX</td>\n",
       "      <td>CHAPTER 93 - ARMS AND AMMUNITION; PARTS AND AC...</td>\n",
       "      <td>ARMS AND AMMUNITION; PARTS AND ACCESSORIES THE...</td>\n",
       "    </tr>\n",
       "    <tr>\n",
       "      <th>7264</th>\n",
       "      <td>1661819</td>\n",
       "      <td>2</td>\n",
       "      <td>940021000090</td>\n",
       "      <td>9.400110e+11</td>\n",
       "      <td>94</td>\n",
       "      <td>XX</td>\n",
       "      <td>CHAPTER 94 - FURNITURE; BEDDING, MATTRESSES, M...</td>\n",
       "      <td>FURNITURE; BEDDING, MATTRESSES, MATTRESS SUPPO...</td>\n",
       "    </tr>\n",
       "    <tr>\n",
       "      <th>7319</th>\n",
       "      <td>1661874</td>\n",
       "      <td>2</td>\n",
       "      <td>950021000090</td>\n",
       "      <td>9.400110e+11</td>\n",
       "      <td>95</td>\n",
       "      <td>XX</td>\n",
       "      <td>CHAPTER 95 - TOYS, GAMES AND SPORTS REQUISITES...</td>\n",
       "      <td>TOYS, GAMES AND SPORTS REQUISITES; PARTS AND A...</td>\n",
       "    </tr>\n",
       "    <tr>\n",
       "      <th>7362</th>\n",
       "      <td>1661917</td>\n",
       "      <td>2</td>\n",
       "      <td>960021000090</td>\n",
       "      <td>9.400110e+11</td>\n",
       "      <td>96</td>\n",
       "      <td>XX</td>\n",
       "      <td>CHAPTER 96 - MISCELLANEOUS MANUFACTURED ARTICLES</td>\n",
       "      <td>MISCELLANEOUS MANUFACTURED ARTICLES</td>\n",
       "    </tr>\n",
       "    <tr>\n",
       "      <th>7428</th>\n",
       "      <td>1661983</td>\n",
       "      <td>2</td>\n",
       "      <td>970021000090</td>\n",
       "      <td>9.700110e+11</td>\n",
       "      <td>97</td>\n",
       "      <td>XXI</td>\n",
       "      <td>CHAPTER 97 - WORKS OF ART, COLLECTORS' PIECES ...</td>\n",
       "      <td>WORKS OF ART, COLLECTORS' PIECES AND ANTIQUES</td>\n",
       "    </tr>\n",
       "  </tbody>\n",
       "</table>\n",
       "<p>96 rows × 8 columns</p>\n",
       "</div>"
      ],
      "text/plain": [
       "        Order  Level          Code        Parent Code_comm Parent.1  \\\n",
       "2     1654557      2   10021000090  1.001100e+10         1        I   \n",
       "52    1654607      2   20021000090  1.001100e+10         2        I   \n",
       "140   1654695      2   30021000090  1.001100e+10         3        I   \n",
       "416   1654971      2   40021000090  1.001100e+10         4        I   \n",
       "463   1655018      2   50021000090  1.001100e+10         5        I   \n",
       "...       ...    ...           ...           ...       ...      ...   \n",
       "7238  1661793      2  930021000090  9.300110e+11        93      XIX   \n",
       "7264  1661819      2  940021000090  9.400110e+11        94       XX   \n",
       "7319  1661874      2  950021000090  9.400110e+11        95       XX   \n",
       "7362  1661917      2  960021000090  9.400110e+11        96       XX   \n",
       "7428  1661983      2  970021000090  9.700110e+11        97      XXI   \n",
       "\n",
       "                                    Description_complex  \\\n",
       "2                              CHAPTER 1 - LIVE ANIMALS   \n",
       "52               CHAPTER 2 - MEAT AND EDIBLE MEAT OFFAL   \n",
       "140   CHAPTER 3 - FISH AND CRUSTACEANS, MOLLUSCS AND...   \n",
       "416   CHAPTER 4 - DAIRY PRODUCE; BIRDS' EGGS; NATURA...   \n",
       "463   CHAPTER 5 - PRODUCTS OF ANIMAL ORIGIN, NOT ELS...   \n",
       "...                                                 ...   \n",
       "7238  CHAPTER 93 - ARMS AND AMMUNITION; PARTS AND AC...   \n",
       "7264  CHAPTER 94 - FURNITURE; BEDDING, MATTRESSES, M...   \n",
       "7319  CHAPTER 95 - TOYS, GAMES AND SPORTS REQUISITES...   \n",
       "7362   CHAPTER 96 - MISCELLANEOUS MANUFACTURED ARTICLES   \n",
       "7428  CHAPTER 97 - WORKS OF ART, COLLECTORS' PIECES ...   \n",
       "\n",
       "                                            Description  \n",
       "2                                          LIVE ANIMALS  \n",
       "52                           MEAT AND EDIBLE MEAT OFFAL  \n",
       "140   FISH AND CRUSTACEANS, MOLLUSCS AND OTHER AQUAT...  \n",
       "416   DAIRY PRODUCE; BIRDS' EGGS; NATURAL HONEY; EDI...  \n",
       "463   PRODUCTS OF ANIMAL ORIGIN, NOT ELSEWHERE SPECI...  \n",
       "...                                                 ...  \n",
       "7238  ARMS AND AMMUNITION; PARTS AND ACCESSORIES THE...  \n",
       "7264  FURNITURE; BEDDING, MATTRESSES, MATTRESS SUPPO...  \n",
       "7319  TOYS, GAMES AND SPORTS REQUISITES; PARTS AND A...  \n",
       "7362                MISCELLANEOUS MANUFACTURED ARTICLES  \n",
       "7428      WORKS OF ART, COLLECTORS' PIECES AND ANTIQUES  \n",
       "\n",
       "[96 rows x 8 columns]"
      ]
     },
     "execution_count": 7,
     "metadata": {},
     "output_type": "execute_result"
    }
   ],
   "source": [
    "#pd.set_option('display.max_rows', None)\n",
    "df_codes = df_codes[df_codes['Code_comm'].notnull()]\n",
    "df_codes\n",
    "df_parents"
   ]
  },
  {
   "cell_type": "code",
   "execution_count": 8,
   "metadata": {
    "collapsed": false
   },
   "outputs": [],
   "source": [
    "def clean_code(text):\n",
    "    text = str(text)\n",
    "    parent_code = None\n",
    "    if len(text) == 11:\n",
    "        code = text[:5]\n",
    "        parent_code = text[:1]\n",
    "    else:\n",
    "        code = text[:6]\n",
    "        parent_code = text[:2]\n",
    "    try:\n",
    "        parent = df_parents[df_parents['Code_comm'] == parent_code]['Description'].values[0]\n",
    "    except:\n",
    "        parent = None\n",
    "    return (code, parent)"
   ]
  },
  {
   "cell_type": "code",
   "execution_count": 9,
   "metadata": {
    "collapsed": false
   },
   "outputs": [
    {
     "data": {
      "text/html": [
       "<div>\n",
       "<style scoped>\n",
       "    .dataframe tbody tr th:only-of-type {\n",
       "        vertical-align: middle;\n",
       "    }\n",
       "\n",
       "    .dataframe tbody tr th {\n",
       "        vertical-align: top;\n",
       "    }\n",
       "\n",
       "    .dataframe thead th {\n",
       "        text-align: right;\n",
       "    }\n",
       "</style>\n",
       "<table border=\"1\" class=\"dataframe\">\n",
       "  <thead>\n",
       "    <tr style=\"text-align: right;\">\n",
       "      <th></th>\n",
       "      <th>clean_code</th>\n",
       "      <th>Description</th>\n",
       "      <th>parent_description</th>\n",
       "      <th>id_code</th>\n",
       "    </tr>\n",
       "  </thead>\n",
       "  <tbody>\n",
       "    <tr>\n",
       "      <th>1</th>\n",
       "      <td>10011</td>\n",
       "      <td>LIVE ANIMALS; ANIMAL PRODUCTS</td>\n",
       "      <td>LIVE ANIMALS</td>\n",
       "      <td>1</td>\n",
       "    </tr>\n",
       "    <tr>\n",
       "      <th>2</th>\n",
       "      <td>10021</td>\n",
       "      <td>LIVE ANIMALS</td>\n",
       "      <td>LIVE ANIMALS</td>\n",
       "      <td>2</td>\n",
       "    </tr>\n",
       "    <tr>\n",
       "      <th>3</th>\n",
       "      <td>10100</td>\n",
       "      <td>Live horses, asses, mules and hinnies</td>\n",
       "      <td>LIVE ANIMALS</td>\n",
       "      <td>3</td>\n",
       "    </tr>\n",
       "    <tr>\n",
       "      <th>5</th>\n",
       "      <td>10121</td>\n",
       "      <td>Pure-bred breeding horses</td>\n",
       "      <td>LIVE ANIMALS</td>\n",
       "      <td>5</td>\n",
       "    </tr>\n",
       "    <tr>\n",
       "      <th>6</th>\n",
       "      <td>10129</td>\n",
       "      <td>Live horses (excl. pure-bred for breeding)</td>\n",
       "      <td>LIVE ANIMALS</td>\n",
       "      <td>6</td>\n",
       "    </tr>\n",
       "  </tbody>\n",
       "</table>\n",
       "</div>"
      ],
      "text/plain": [
       "   clean_code                                 Description parent_description  \\\n",
       "1       10011               LIVE ANIMALS; ANIMAL PRODUCTS       LIVE ANIMALS   \n",
       "2       10021                                LIVE ANIMALS       LIVE ANIMALS   \n",
       "3       10100       Live horses, asses, mules and hinnies       LIVE ANIMALS   \n",
       "5       10121                   Pure-bred breeding horses       LIVE ANIMALS   \n",
       "6       10129  Live horses (excl. pure-bred for breeding)       LIVE ANIMALS   \n",
       "\n",
       "   id_code  \n",
       "1        1  \n",
       "2        2  \n",
       "3        3  \n",
       "5        5  \n",
       "6        6  "
      ]
     },
     "execution_count": 9,
     "metadata": {},
     "output_type": "execute_result"
    }
   ],
   "source": [
    "# Got tuple with clean codes (5-6 digits) and parent description\n",
    "df_codes[['clean_code', 'parent_description']] = df_codes.apply(lambda x: clean_code(x['Code']), axis=1, result_type='expand')\n",
    "df_codes = df_codes[df_codes['clean_code'].notnull()][['clean_code', 'Description', 'parent_description']]\n",
    "df_codes['id_code'] = df_codes.index\n",
    "df_codes['clean_code'] = df_codes['clean_code'].astype('int64')\n",
    "df_codes.head()"
   ]
  },
  {
   "attachments": {},
   "cell_type": "markdown",
   "metadata": {
    "collapsed": false
   },
   "source": [
    "#### Cleaning Countries DataFrame"
   ]
  },
  {
   "cell_type": "code",
   "execution_count": 10,
   "metadata": {
    "collapsed": false
   },
   "outputs": [
    {
     "data": {
      "text/html": [
       "<div>\n",
       "<style scoped>\n",
       "    .dataframe tbody tr th:only-of-type {\n",
       "        vertical-align: middle;\n",
       "    }\n",
       "\n",
       "    .dataframe tbody tr th {\n",
       "        vertical-align: top;\n",
       "    }\n",
       "\n",
       "    .dataframe thead th {\n",
       "        text-align: right;\n",
       "    }\n",
       "</style>\n",
       "<table border=\"1\" class=\"dataframe\">\n",
       "  <thead>\n",
       "    <tr style=\"text-align: right;\">\n",
       "      <th></th>\n",
       "      <th>alpha-3</th>\n",
       "      <th>country</th>\n",
       "      <th>region</th>\n",
       "      <th>sub-region</th>\n",
       "      <th>id_country</th>\n",
       "    </tr>\n",
       "  </thead>\n",
       "  <tbody>\n",
       "    <tr>\n",
       "      <th>0</th>\n",
       "      <td>AFG</td>\n",
       "      <td>Afghanistan</td>\n",
       "      <td>Asia</td>\n",
       "      <td>Southern Asia</td>\n",
       "      <td>1</td>\n",
       "    </tr>\n",
       "    <tr>\n",
       "      <th>1</th>\n",
       "      <td>ALB</td>\n",
       "      <td>Albania</td>\n",
       "      <td>Europe</td>\n",
       "      <td>Southern Europe</td>\n",
       "      <td>2</td>\n",
       "    </tr>\n",
       "    <tr>\n",
       "      <th>2</th>\n",
       "      <td>DZA</td>\n",
       "      <td>Algeria</td>\n",
       "      <td>Africa</td>\n",
       "      <td>Northern Africa</td>\n",
       "      <td>3</td>\n",
       "    </tr>\n",
       "    <tr>\n",
       "      <th>3</th>\n",
       "      <td>AND</td>\n",
       "      <td>Andorra</td>\n",
       "      <td>Europe</td>\n",
       "      <td>Southern Europe</td>\n",
       "      <td>4</td>\n",
       "    </tr>\n",
       "    <tr>\n",
       "      <th>4</th>\n",
       "      <td>AGO</td>\n",
       "      <td>Angola</td>\n",
       "      <td>Africa</td>\n",
       "      <td>Sub-Saharan Africa</td>\n",
       "      <td>5</td>\n",
       "    </tr>\n",
       "    <tr>\n",
       "      <th>...</th>\n",
       "      <td>...</td>\n",
       "      <td>...</td>\n",
       "      <td>...</td>\n",
       "      <td>...</td>\n",
       "      <td>...</td>\n",
       "    </tr>\n",
       "    <tr>\n",
       "      <th>268</th>\n",
       "      <td>UMI</td>\n",
       "      <td>United States Minor Outlying Islands</td>\n",
       "      <td>Oceania</td>\n",
       "      <td>Micronesia</td>\n",
       "      <td>269</td>\n",
       "    </tr>\n",
       "    <tr>\n",
       "      <th>269</th>\n",
       "      <td>VGB</td>\n",
       "      <td>Virgin Islands (British)</td>\n",
       "      <td>Americas</td>\n",
       "      <td>Latin America and the Caribbean</td>\n",
       "      <td>270</td>\n",
       "    </tr>\n",
       "    <tr>\n",
       "      <th>270</th>\n",
       "      <td>VIR</td>\n",
       "      <td>Virgin Islands (U.S.)</td>\n",
       "      <td>Americas</td>\n",
       "      <td>Latin America and the Caribbean</td>\n",
       "      <td>271</td>\n",
       "    </tr>\n",
       "    <tr>\n",
       "      <th>271</th>\n",
       "      <td>WLF</td>\n",
       "      <td>Wallis and Futuna</td>\n",
       "      <td>Oceania</td>\n",
       "      <td>Polynesia</td>\n",
       "      <td>272</td>\n",
       "    </tr>\n",
       "    <tr>\n",
       "      <th>272</th>\n",
       "      <td>ESH</td>\n",
       "      <td>Western Sahara</td>\n",
       "      <td>Africa</td>\n",
       "      <td>Northern Africa</td>\n",
       "      <td>273</td>\n",
       "    </tr>\n",
       "  </tbody>\n",
       "</table>\n",
       "<p>249 rows × 5 columns</p>\n",
       "</div>"
      ],
      "text/plain": [
       "    alpha-3                               country    region  \\\n",
       "0       AFG                           Afghanistan      Asia   \n",
       "1       ALB                               Albania    Europe   \n",
       "2       DZA                               Algeria    Africa   \n",
       "3       AND                               Andorra    Europe   \n",
       "4       AGO                                Angola    Africa   \n",
       "..      ...                                   ...       ...   \n",
       "268     UMI  United States Minor Outlying Islands   Oceania   \n",
       "269     VGB              Virgin Islands (British)  Americas   \n",
       "270     VIR                 Virgin Islands (U.S.)  Americas   \n",
       "271     WLF                     Wallis and Futuna   Oceania   \n",
       "272     ESH                        Western Sahara    Africa   \n",
       "\n",
       "                          sub-region  id_country  \n",
       "0                      Southern Asia           1  \n",
       "1                    Southern Europe           2  \n",
       "2                    Northern Africa           3  \n",
       "3                    Southern Europe           4  \n",
       "4                 Sub-Saharan Africa           5  \n",
       "..                               ...         ...  \n",
       "268                       Micronesia         269  \n",
       "269  Latin America and the Caribbean         270  \n",
       "270  Latin America and the Caribbean         271  \n",
       "271                        Polynesia         272  \n",
       "272                  Northern Africa         273  \n",
       "\n",
       "[249 rows x 5 columns]"
      ]
     },
     "execution_count": 10,
     "metadata": {},
     "output_type": "execute_result"
    }
   ],
   "source": [
    "df_countries = df_countries[['alpha-3', 'country', 'region', 'sub-region']]\n",
    "df_countries = df_countries[df_countries['alpha-3'].notnull()]\n",
    "df_countries['id_country'] = df_countries.index + 1\n",
    "df_countries"
   ]
  },
  {
   "cell_type": "markdown",
   "metadata": {
    "collapsed": false
   },
   "source": [
    "### Create dataframe from csv"
   ]
  },
  {
   "cell_type": "code",
   "execution_count": 12,
   "metadata": {
    "collapsed": false
   },
   "outputs": [],
   "source": [
    "import pandas as pd\n",
    "trades_df = pd.read_csv('trades.csv', dtype={'country_code': 'category', 'comm_code': 'uint32', 'year': 'uint32', 'flow': 'category', 'trade_usd': 'float32', 'kg': 'float32', 'quantity': 'float32', 'quantity_name': 'category'})"
   ]
  },
  {
   "cell_type": "markdown",
   "metadata": {
    "collapsed": false
   },
   "source": [
    "#### Merge df_countries with \"trades\" Postgres table"
   ]
  },
  {
   "cell_type": "code",
   "execution_count": 13,
   "metadata": {
    "collapsed": false
   },
   "outputs": [],
   "source": [
    "# merge\n",
    "df_trades_clean = trades_df.merge(df_codes[['clean_code', 'id_code']], how='left', left_on='comm_code', right_on='clean_code')"
   ]
  },
  {
   "cell_type": "code",
   "execution_count": 14,
   "metadata": {
    "collapsed": false
   },
   "outputs": [],
   "source": [
    "df_trades_clean_short = df_trades_clean.loc[::12,:].copy()"
   ]
  },
  {
   "cell_type": "code",
   "execution_count": 15,
   "metadata": {
    "collapsed": false
   },
   "outputs": [
    {
     "data": {
      "text/html": [
       "<div>\n",
       "<style scoped>\n",
       "    .dataframe tbody tr th:only-of-type {\n",
       "        vertical-align: middle;\n",
       "    }\n",
       "\n",
       "    .dataframe tbody tr th {\n",
       "        vertical-align: top;\n",
       "    }\n",
       "\n",
       "    .dataframe thead th {\n",
       "        text-align: right;\n",
       "    }\n",
       "</style>\n",
       "<table border=\"1\" class=\"dataframe\">\n",
       "  <thead>\n",
       "    <tr style=\"text-align: right;\">\n",
       "      <th></th>\n",
       "      <th>country_code</th>\n",
       "      <th>year</th>\n",
       "      <th>comm_code</th>\n",
       "      <th>flow</th>\n",
       "      <th>trade_usd</th>\n",
       "      <th>kg</th>\n",
       "      <th>quantity</th>\n",
       "      <th>quantity_name</th>\n",
       "      <th>clean_code</th>\n",
       "      <th>id_code</th>\n",
       "      <th>alpha-3</th>\n",
       "      <th>id_country</th>\n",
       "    </tr>\n",
       "  </thead>\n",
       "  <tbody>\n",
       "    <tr>\n",
       "      <th>518025</th>\n",
       "      <td>AUS</td>\n",
       "      <td>2008</td>\n",
       "      <td>910990</td>\n",
       "      <td>Import</td>\n",
       "      <td>92284.0</td>\n",
       "      <td>2837.0</td>\n",
       "      <td>33051.0</td>\n",
       "      <td>Number of items</td>\n",
       "      <td>910990</td>\n",
       "      <td>7188</td>\n",
       "      <td>AUS</td>\n",
       "      <td>9</td>\n",
       "    </tr>\n",
       "    <tr>\n",
       "      <th>518026</th>\n",
       "      <td>AUS</td>\n",
       "      <td>2008</td>\n",
       "      <td>911180</td>\n",
       "      <td>Export</td>\n",
       "      <td>2700.0</td>\n",
       "      <td>967.0</td>\n",
       "      <td>4052.0</td>\n",
       "      <td>Number of items</td>\n",
       "      <td>911180</td>\n",
       "      <td>7198</td>\n",
       "      <td>AUS</td>\n",
       "      <td>9</td>\n",
       "    </tr>\n",
       "    <tr>\n",
       "      <th>518027</th>\n",
       "      <td>AUS</td>\n",
       "      <td>2008</td>\n",
       "      <td>911390</td>\n",
       "      <td>Export</td>\n",
       "      <td>131528.0</td>\n",
       "      <td>4250.0</td>\n",
       "      <td>4250.0</td>\n",
       "      <td>Weight in kilograms</td>\n",
       "      <td>911390</td>\n",
       "      <td>7206</td>\n",
       "      <td>AUS</td>\n",
       "      <td>9</td>\n",
       "    </tr>\n",
       "    <tr>\n",
       "      <th>518028</th>\n",
       "      <td>AUS</td>\n",
       "      <td>2007</td>\n",
       "      <td>910119</td>\n",
       "      <td>Export</td>\n",
       "      <td>1002215.0</td>\n",
       "      <td>1611.0</td>\n",
       "      <td>6552.0</td>\n",
       "      <td>Number of items</td>\n",
       "      <td>910119</td>\n",
       "      <td>7143</td>\n",
       "      <td>AUS</td>\n",
       "      <td>9</td>\n",
       "    </tr>\n",
       "    <tr>\n",
       "      <th>518029</th>\n",
       "      <td>AUS</td>\n",
       "      <td>2007</td>\n",
       "      <td>910211</td>\n",
       "      <td>Import</td>\n",
       "      <td>134055696.0</td>\n",
       "      <td>990136.0</td>\n",
       "      <td>4988213.0</td>\n",
       "      <td>Number of items</td>\n",
       "      <td>910211</td>\n",
       "      <td>7152</td>\n",
       "      <td>AUS</td>\n",
       "      <td>9</td>\n",
       "    </tr>\n",
       "  </tbody>\n",
       "</table>\n",
       "</div>"
      ],
      "text/plain": [
       "       country_code  year  comm_code    flow    trade_usd        kg  \\\n",
       "518025          AUS  2008     910990  Import      92284.0    2837.0   \n",
       "518026          AUS  2008     911180  Export       2700.0     967.0   \n",
       "518027          AUS  2008     911390  Export     131528.0    4250.0   \n",
       "518028          AUS  2007     910119  Export    1002215.0    1611.0   \n",
       "518029          AUS  2007     910211  Import  134055696.0  990136.0   \n",
       "\n",
       "         quantity        quantity_name  clean_code  id_code alpha-3  \\\n",
       "518025    33051.0      Number of items      910990     7188     AUS   \n",
       "518026     4052.0      Number of items      911180     7198     AUS   \n",
       "518027     4250.0  Weight in kilograms      911390     7206     AUS   \n",
       "518028     6552.0      Number of items      910119     7143     AUS   \n",
       "518029  4988213.0      Number of items      910211     7152     AUS   \n",
       "\n",
       "        id_country  \n",
       "518025           9  \n",
       "518026           9  \n",
       "518027           9  \n",
       "518028           9  \n",
       "518029           9  "
      ]
     },
     "execution_count": 15,
     "metadata": {},
     "output_type": "execute_result"
    }
   ],
   "source": [
    "df_trades_clean = df_trades_clean_short.merge(df_countries[['alpha-3', 'id_country']], how='left', left_on='country_code', right_on='alpha-3')\n",
    "df_trades_clean.tail()"
   ]
  },
  {
   "attachments": {},
   "cell_type": "markdown",
   "metadata": {
    "collapsed": false
   },
   "source": [
    "### Transactional Data Transformation: flow (import-export)"
   ]
  },
  {
   "cell_type": "markdown",
   "metadata": {
    "collapsed": false
   },
   "source": [
    "#### Clean Trades"
   ]
  },
  {
   "cell_type": "code",
   "execution_count": 16,
   "metadata": {
    "collapsed": false
   },
   "outputs": [],
   "source": [
    "def create_dimension(data, id_name):\n",
    "    keys_list = []\n",
    "    value = 1\n",
    "    for _ in data:\n",
    "        keys_list.append(value)\n",
    "        value = value + 1\n",
    "    return pd.DataFrame({id_name: keys_list, 'values': data})"
   ]
  },
  {
   "cell_type": "code",
   "execution_count": 17,
   "metadata": {
    "collapsed": false
   },
   "outputs": [],
   "source": [
    "quantity_df = create_dimension(df_trades_clean['quantity_name'].unique(), 'id_quantity')\n",
    "flow_df = create_dimension(df_trades_clean['flow'].unique(), 'id_flow')\n",
    "year_df = create_dimension(df_trades_clean['year'].unique(), 'id_year')"
   ]
  },
  {
   "cell_type": "code",
   "execution_count": 18,
   "metadata": {
    "collapsed": false
   },
   "outputs": [
    {
     "data": {
      "text/html": [
       "<div>\n",
       "<style scoped>\n",
       "    .dataframe tbody tr th:only-of-type {\n",
       "        vertical-align: middle;\n",
       "    }\n",
       "\n",
       "    .dataframe tbody tr th {\n",
       "        vertical-align: top;\n",
       "    }\n",
       "\n",
       "    .dataframe thead th {\n",
       "        text-align: right;\n",
       "    }\n",
       "</style>\n",
       "<table border=\"1\" class=\"dataframe\">\n",
       "  <thead>\n",
       "    <tr style=\"text-align: right;\">\n",
       "      <th></th>\n",
       "      <th>id_flow</th>\n",
       "      <th>values</th>\n",
       "    </tr>\n",
       "  </thead>\n",
       "  <tbody>\n",
       "    <tr>\n",
       "      <th>0</th>\n",
       "      <td>1</td>\n",
       "      <td>Re-Import</td>\n",
       "    </tr>\n",
       "    <tr>\n",
       "      <th>1</th>\n",
       "      <td>2</td>\n",
       "      <td>Import</td>\n",
       "    </tr>\n",
       "    <tr>\n",
       "      <th>2</th>\n",
       "      <td>3</td>\n",
       "      <td>Export</td>\n",
       "    </tr>\n",
       "    <tr>\n",
       "      <th>3</th>\n",
       "      <td>4</td>\n",
       "      <td>Re-Export</td>\n",
       "    </tr>\n",
       "  </tbody>\n",
       "</table>\n",
       "</div>"
      ],
      "text/plain": [
       "   id_flow     values\n",
       "0        1  Re-Import\n",
       "1        2     Import\n",
       "2        3     Export\n",
       "3        4  Re-Export"
      ]
     },
     "execution_count": 18,
     "metadata": {},
     "output_type": "execute_result"
    }
   ],
   "source": [
    "quantity_df\n",
    "flow_df"
   ]
  },
  {
   "cell_type": "code",
   "execution_count": 19,
   "metadata": {
    "collapsed": false
   },
   "outputs": [
    {
     "data": {
      "text/plain": [
       "country_code     518030\n",
       "year             518030\n",
       "comm_code        518030\n",
       "flow             518030\n",
       "trade_usd        518030\n",
       "kg               511548\n",
       "quantity         500430\n",
       "quantity_name    518030\n",
       "clean_code       518030\n",
       "id_code          518030\n",
       "alpha-3          518030\n",
       "id_country       518030\n",
       "dtype: int64"
      ]
     },
     "execution_count": 19,
     "metadata": {},
     "output_type": "execute_result"
    }
   ],
   "source": [
    "df_trades_clean.count()"
   ]
  },
  {
   "cell_type": "code",
   "execution_count": 20,
   "metadata": {
    "collapsed": false
   },
   "outputs": [],
   "source": [
    "#trades_df_clean = df_trades_clean.loc[::12,:].copy()\n",
    "trades_df_clean = df_trades_clean.copy()"
   ]
  },
  {
   "cell_type": "code",
   "execution_count": 21,
   "metadata": {
    "collapsed": false
   },
   "outputs": [],
   "source": [
    "trades_df_clean = trades_df_clean.merge(quantity_df, how='left', left_on='quantity_name', right_on='values')\n",
    "trades_df_clean = trades_df_clean.merge(flow_df, how='left', left_on='flow', right_on='values')\n",
    "trades_df_clean = trades_df_clean.merge(year_df, how='left', left_on='year', right_on='values')"
   ]
  },
  {
   "cell_type": "code",
   "execution_count": 22,
   "metadata": {
    "collapsed": false
   },
   "outputs": [],
   "source": [
    "trades_df_clean['id_trades'] = trades_df_clean.index + 1"
   ]
  },
  {
   "cell_type": "code",
   "execution_count": 23,
   "metadata": {
    "collapsed": false
   },
   "outputs": [
    {
     "data": {
      "text/plain": [
       "country_code     518030\n",
       "year             518030\n",
       "comm_code        518030\n",
       "flow             518030\n",
       "trade_usd        518030\n",
       "kg               511548\n",
       "quantity         500430\n",
       "quantity_name    518030\n",
       "clean_code       518030\n",
       "id_code          518030\n",
       "alpha-3          518030\n",
       "id_country       518030\n",
       "id_quantity      518030\n",
       "values_x         518030\n",
       "id_flow          518030\n",
       "values_y         518030\n",
       "id_year          518030\n",
       "values           518030\n",
       "id_trades        518030\n",
       "dtype: int64"
      ]
     },
     "execution_count": 23,
     "metadata": {},
     "output_type": "execute_result"
    }
   ],
   "source": [
    "trades_df_clean.count()"
   ]
  },
  {
   "attachments": {},
   "cell_type": "markdown",
   "metadata": {
    "collapsed": false
   },
   "source": [
    "#### Fact Table (trades)"
   ]
  },
  {
   "cell_type": "code",
   "execution_count": 24,
   "metadata": {
    "collapsed": false
   },
   "outputs": [],
   "source": [
    "trades_df_final = trades_df_clean[['id_trades', 'trade_usd', 'kg', 'quantity', 'id_code', 'id_country', 'id_quantity', 'id_flow', 'id_year']].copy()"
   ]
  },
  {
   "cell_type": "code",
   "execution_count": 25,
   "metadata": {
    "collapsed": false
   },
   "outputs": [
    {
     "data": {
      "text/plain": [
       "id_trades      10793\n",
       "trade_usd      10793\n",
       "kg             10666\n",
       "quantity       10450\n",
       "id_code        10793\n",
       "id_country     10793\n",
       "id_quantity    10793\n",
       "id_flow        10793\n",
       "id_year        10793\n",
       "dtype: int64"
      ]
     },
     "execution_count": 25,
     "metadata": {},
     "output_type": "execute_result"
    }
   ],
   "source": [
    "trades_df_final.count()"
   ]
  },
  {
   "attachments": {},
   "cell_type": "markdown",
   "metadata": {
    "collapsed": false
   },
   "source": [
    "#### Dimensions: df_countries and df_codes"
   ]
  },
  {
   "cell_type": "code",
   "execution_count": 26,
   "metadata": {
    "collapsed": false
   },
   "outputs": [],
   "source": [
    "df_countries = df_countries[['id_country', 'alpha-3', 'country', 'region', 'sub-region']].copy()"
   ]
  },
  {
   "cell_type": "code",
   "execution_count": 27,
   "metadata": {
    "collapsed": false
   },
   "outputs": [],
   "source": [
    "df_codes = df_codes[['id_code', 'clean_code', 'Description', 'parent_description']].copy()"
   ]
  },
  {
   "cell_type": "markdown",
   "metadata": {
    "collapsed": false
   },
   "source": [
    "### Load"
   ]
  },
  {
   "cell_type": "code",
   "execution_count": 95,
   "metadata": {
    "collapsed": false
   },
   "outputs": [],
   "source": [
    "trades_df_final.to_csv('target/trades.csv', index=False, sep='|')\n",
    "df_countries.to_csv('target/countries.csv', index=False, sep='|')\n",
    "df_codes.to_csv('target/codes.csv', index=False, sep='|')\n",
    "quantity_df.to_csv('target/quantity.csv', index=False, sep='|')\n",
    "flow_df.to_csv('target/flow.csv', index=False, sep='|')\n",
    "year_df.to_csv('target/years.csv', index=False, sep='|')"
   ]
  },
  {
   "cell_type": "code",
   "execution_count": 122,
   "metadata": {
    "collapsed": false
   },
   "outputs": [],
   "source": [
    "import os\n",
    "import boto3\n",
    "import redshift_connector\n",
    "\n",
    "client = boto3.client(\n",
    "    's3',\n",
    "    aws_access_key_id = os.environ.get('aws_access_key_id'),\n",
    "    aws_secret_access_key = os.environ.get('aws_secret_access_key')\n",
    ")\n",
    "\n",
    "conn = redshift_connector.connect(\n",
    "    host = os.environ.get('redshift_host'),\n",
    "    database = os.environ.get('redshift_database'),\n",
    "    port = 5439,\n",
    "    user = os.environ.get('redshift_user'),\n",
    "    password = os.environ.get('redshift_password')\n",
    ")\n",
    "\n",
    "cursor = conn.cursor()"
   ]
  },
  {
   "cell_type": "code",
   "execution_count": 111,
   "metadata": {
    "collapsed": false
   },
   "outputs": [],
   "source": [
    "conn.close()"
   ]
  },
  {
   "cell_type": "code",
   "execution_count": 109,
   "metadata": {
    "collapsed": false
   },
   "outputs": [],
   "source": [
    "# python function to load data into s3 bucket through COPY sentence of redshift\n",
    "def load_file(file_name):\n",
    "    table_name = file_name.split('.')[0]\n",
    "    client.upload_file(\n",
    "        Filename='target/{}'.format(file_name),\n",
    "        Bucket = 'bucket-etl-redshift',\n",
    "        Key='course_etl_target/{}'.format(file_name)\n",
    "    )\n",
    "# COPY sentence of redshift\n",
    "    sentence = '''copy public.{} from 's3://bucket-etl-redshift/course_etl_target/{}' credentials 'aws_access_key_id={};aws_secret_access_key={}' csv delimiter '|' region 'us-west-2' ignoreheader 1'''.format(table_name, file_name, os.environ.get('aws_access_key_id'), os.environ.get('aws_secret_access_key'))\n",
    "    try:\n",
    "        cursor.execute(sentence)\n",
    "        print('Ok en la tabla ' + table_name)\n",
    "    except:\n",
    "        print('Error en la tabla ' + table_name)"
   ]
  },
  {
   "cell_type": "code",
   "execution_count": 123,
   "metadata": {
    "collapsed": false
   },
   "outputs": [
    {
     "name": "stdout",
     "output_type": "stream",
     "text": [
      "Ok en la tabla years\n"
     ]
    }
   ],
   "source": [
    "# Load data into the previously created tables with the sql script\n",
    "load_file('trades.csv')\n",
    "load_file('countries.csv')\n",
    "load_file('codes.csv')\n",
    "load_file('quantity.csv')\n",
    "load_file('flow.csv')\n",
    "load_file('years.csv')"
   ]
  },
  {
   "cell_type": "code",
   "execution_count": 125,
   "metadata": {
    "collapsed": false
   },
   "outputs": [],
   "source": [
    "# Execute changes\n",
    "conn.commit()"
   ]
  },
  {
   "cell_type": "code",
   "execution_count": 126,
   "metadata": {
    "collapsed": false
   },
   "outputs": [],
   "source": [
    "# Close the connection\n",
    "conn.close()"
   ]
  }
 ],
 "metadata": {
  "kernelspec": {
   "display_name": "Python 3",
   "language": "python",
   "name": "python3"
  },
  "language_info": {
   "codemirror_mode": {
    "name": "ipython",
    "version": 2
   },
   "file_extension": ".py",
   "mimetype": "text/x-python",
   "name": "python",
   "nbconvert_exporter": "python",
   "pygments_lexer": "ipython2",
   "version": "2.7.6"
  }
 },
 "nbformat": 4,
 "nbformat_minor": 0
}
