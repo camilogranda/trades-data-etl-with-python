{
 "cells": [
  {
   "cell_type": "markdown",
   "source": [
    "### ETL de datos de importación de productos"
   ],
   "metadata": {
    "collapsed": false
   }
  },
  {
   "cell_type": "markdown",
   "source": [
    "## Cargar .json con países y .csv con códigos"
   ],
   "metadata": {
    "collapsed": false
   }
  },
  {
   "cell_type": "code",
   "execution_count": 4,
   "outputs": [
    {
     "data": {
      "text/plain": "     Order  Level         Code        Parent Code_comm Parent.1  \\\n0  1654555      1            0           NaN       NaN      NaN   \n1  1654556      1  10011000090           NaN         I      NaN   \n2  1654557      2  10021000090  1.001100e+10         1        I   \n3  1654558      3  10100000080  1.002100e+10      1.01        1   \n4  1654559      4  10121000010  1.010000e+10       NaN     1.01   \n\n                                 Description_complex  \\\n0  This classification has been uploaded in RAMON...   \n1          SECTION I - LIVE ANIMALS; ANIMAL PRODUCTS   \n2                           CHAPTER 1 - LIVE ANIMALS   \n3              Live horses, asses, mules and hinnies   \n4                                           - Horses   \n\n                                         Description  \n0  This classification has been uploaded in RAMON...  \n1                      LIVE ANIMALS; ANIMAL PRODUCTS  \n2                                       LIVE ANIMALS  \n3              Live horses, asses, mules and hinnies  \n4                                                NaN  ",
      "text/html": "<div>\n<style scoped>\n    .dataframe tbody tr th:only-of-type {\n        vertical-align: middle;\n    }\n\n    .dataframe tbody tr th {\n        vertical-align: top;\n    }\n\n    .dataframe thead th {\n        text-align: right;\n    }\n</style>\n<table border=\"1\" class=\"dataframe\">\n  <thead>\n    <tr style=\"text-align: right;\">\n      <th></th>\n      <th>Order</th>\n      <th>Level</th>\n      <th>Code</th>\n      <th>Parent</th>\n      <th>Code_comm</th>\n      <th>Parent.1</th>\n      <th>Description_complex</th>\n      <th>Description</th>\n    </tr>\n  </thead>\n  <tbody>\n    <tr>\n      <th>0</th>\n      <td>1654555</td>\n      <td>1</td>\n      <td>0</td>\n      <td>NaN</td>\n      <td>NaN</td>\n      <td>NaN</td>\n      <td>This classification has been uploaded in RAMON...</td>\n      <td>This classification has been uploaded in RAMON...</td>\n    </tr>\n    <tr>\n      <th>1</th>\n      <td>1654556</td>\n      <td>1</td>\n      <td>10011000090</td>\n      <td>NaN</td>\n      <td>I</td>\n      <td>NaN</td>\n      <td>SECTION I - LIVE ANIMALS; ANIMAL PRODUCTS</td>\n      <td>LIVE ANIMALS; ANIMAL PRODUCTS</td>\n    </tr>\n    <tr>\n      <th>2</th>\n      <td>1654557</td>\n      <td>2</td>\n      <td>10021000090</td>\n      <td>1.001100e+10</td>\n      <td>1</td>\n      <td>I</td>\n      <td>CHAPTER 1 - LIVE ANIMALS</td>\n      <td>LIVE ANIMALS</td>\n    </tr>\n    <tr>\n      <th>3</th>\n      <td>1654558</td>\n      <td>3</td>\n      <td>10100000080</td>\n      <td>1.002100e+10</td>\n      <td>1.01</td>\n      <td>1</td>\n      <td>Live horses, asses, mules and hinnies</td>\n      <td>Live horses, asses, mules and hinnies</td>\n    </tr>\n    <tr>\n      <th>4</th>\n      <td>1654559</td>\n      <td>4</td>\n      <td>10121000010</td>\n      <td>1.010000e+10</td>\n      <td>NaN</td>\n      <td>1.01</td>\n      <td>- Horses</td>\n      <td>NaN</td>\n    </tr>\n  </tbody>\n</table>\n</div>"
     },
     "execution_count": 4,
     "metadata": {},
     "output_type": "execute_result"
    }
   ],
   "source": [
    "import pandas as pd\n",
    "\n",
    "df_countries = pd.read_json('country_data.json')\n",
    "df_codes = pd.read_csv('hs_codes_67d0ca02-86f0-4829-8568-389ab67a38e5.csv')\n",
    "df_countries.head()\n",
    "df_codes.head()"
   ],
   "metadata": {
    "collapsed": false
   }
  },
  {
   "cell_type": "code",
   "execution_count": 5,
   "outputs": [
    {
     "data": {
      "text/plain": "2                                CHAPTER 1 - LIVE ANIMALS\n52                 CHAPTER 2 - MEAT AND EDIBLE MEAT OFFAL\n140     CHAPTER 3 - FISH AND CRUSTACEANS, MOLLUSCS AND...\n416     CHAPTER 4 - DAIRY PRODUCE; BIRDS' EGGS; NATURA...\n463     CHAPTER 5 - PRODUCTS OF ANIMAL ORIGIN, NOT ELS...\n                              ...                        \n7238    CHAPTER 93 - ARMS AND AMMUNITION; PARTS AND AC...\n7264    CHAPTER 94 - FURNITURE; BEDDING, MATTRESSES, M...\n7319    CHAPTER 95 - TOYS, GAMES AND SPORTS REQUISITES...\n7362     CHAPTER 96 - MISCELLANEOUS MANUFACTURED ARTICLES\n7428    CHAPTER 97 - WORKS OF ART, COLLECTORS' PIECES ...\nName: Description_complex, Length: 96, dtype: object"
     },
     "execution_count": 5,
     "metadata": {},
     "output_type": "execute_result"
    }
   ],
   "source": [
    "df_codes[df_codes['Level']==2].loc[:,'Description_complex']"
   ],
   "metadata": {
    "collapsed": false
   }
  },
  {
   "cell_type": "code",
   "execution_count": 6,
   "outputs": [
    {
     "data": {
      "text/plain": "       Order  Level         Code        Parent Code_comm Parent.1  \\\n2    1654557      2  10021000090  1.001100e+10         1        I   \n52   1654607      2  20021000090  1.001100e+10         2        I   \n140  1654695      2  30021000090  1.001100e+10         3        I   \n416  1654971      2  40021000090  1.001100e+10         4        I   \n463  1655018      2  50021000090  1.001100e+10         5        I   \n\n                                   Description_complex  \\\n2                             CHAPTER 1 - LIVE ANIMALS   \n52              CHAPTER 2 - MEAT AND EDIBLE MEAT OFFAL   \n140  CHAPTER 3 - FISH AND CRUSTACEANS, MOLLUSCS AND...   \n416  CHAPTER 4 - DAIRY PRODUCE; BIRDS' EGGS; NATURA...   \n463  CHAPTER 5 - PRODUCTS OF ANIMAL ORIGIN, NOT ELS...   \n\n                                           Description  \n2                                         LIVE ANIMALS  \n52                          MEAT AND EDIBLE MEAT OFFAL  \n140  FISH AND CRUSTACEANS, MOLLUSCS AND OTHER AQUAT...  \n416  DAIRY PRODUCE; BIRDS' EGGS; NATURAL HONEY; EDI...  \n463  PRODUCTS OF ANIMAL ORIGIN, NOT ELSEWHERE SPECI...  ",
      "text/html": "<div>\n<style scoped>\n    .dataframe tbody tr th:only-of-type {\n        vertical-align: middle;\n    }\n\n    .dataframe tbody tr th {\n        vertical-align: top;\n    }\n\n    .dataframe thead th {\n        text-align: right;\n    }\n</style>\n<table border=\"1\" class=\"dataframe\">\n  <thead>\n    <tr style=\"text-align: right;\">\n      <th></th>\n      <th>Order</th>\n      <th>Level</th>\n      <th>Code</th>\n      <th>Parent</th>\n      <th>Code_comm</th>\n      <th>Parent.1</th>\n      <th>Description_complex</th>\n      <th>Description</th>\n    </tr>\n  </thead>\n  <tbody>\n    <tr>\n      <th>2</th>\n      <td>1654557</td>\n      <td>2</td>\n      <td>10021000090</td>\n      <td>1.001100e+10</td>\n      <td>1</td>\n      <td>I</td>\n      <td>CHAPTER 1 - LIVE ANIMALS</td>\n      <td>LIVE ANIMALS</td>\n    </tr>\n    <tr>\n      <th>52</th>\n      <td>1654607</td>\n      <td>2</td>\n      <td>20021000090</td>\n      <td>1.001100e+10</td>\n      <td>2</td>\n      <td>I</td>\n      <td>CHAPTER 2 - MEAT AND EDIBLE MEAT OFFAL</td>\n      <td>MEAT AND EDIBLE MEAT OFFAL</td>\n    </tr>\n    <tr>\n      <th>140</th>\n      <td>1654695</td>\n      <td>2</td>\n      <td>30021000090</td>\n      <td>1.001100e+10</td>\n      <td>3</td>\n      <td>I</td>\n      <td>CHAPTER 3 - FISH AND CRUSTACEANS, MOLLUSCS AND...</td>\n      <td>FISH AND CRUSTACEANS, MOLLUSCS AND OTHER AQUAT...</td>\n    </tr>\n    <tr>\n      <th>416</th>\n      <td>1654971</td>\n      <td>2</td>\n      <td>40021000090</td>\n      <td>1.001100e+10</td>\n      <td>4</td>\n      <td>I</td>\n      <td>CHAPTER 4 - DAIRY PRODUCE; BIRDS' EGGS; NATURA...</td>\n      <td>DAIRY PRODUCE; BIRDS' EGGS; NATURAL HONEY; EDI...</td>\n    </tr>\n    <tr>\n      <th>463</th>\n      <td>1655018</td>\n      <td>2</td>\n      <td>50021000090</td>\n      <td>1.001100e+10</td>\n      <td>5</td>\n      <td>I</td>\n      <td>CHAPTER 5 - PRODUCTS OF ANIMAL ORIGIN, NOT ELS...</td>\n      <td>PRODUCTS OF ANIMAL ORIGIN, NOT ELSEWHERE SPECI...</td>\n    </tr>\n  </tbody>\n</table>\n</div>"
     },
     "execution_count": 6,
     "metadata": {},
     "output_type": "execute_result"
    }
   ],
   "source": [
    "df_parents = df_codes[df_codes['Level']==2].copy()\n",
    "df_parents.head()"
   ],
   "metadata": {
    "collapsed": false
   }
  },
  {
   "cell_type": "markdown",
   "source": [
    "#### Transformación"
   ],
   "metadata": {
    "collapsed": false
   }
  },
  {
   "cell_type": "markdown",
   "source": [
    "##### Limpieza"
   ],
   "metadata": {
    "collapsed": false
   }
  },
  {
   "cell_type": "code",
   "execution_count": 7,
   "outputs": [
    {
     "data": {
      "text/plain": "        Order  Level          Code        Parent Code_comm Parent.1  \\\n2     1654557      2   10021000090  1.001100e+10         1        I   \n52    1654607      2   20021000090  1.001100e+10         2        I   \n140   1654695      2   30021000090  1.001100e+10         3        I   \n416   1654971      2   40021000090  1.001100e+10         4        I   \n463   1655018      2   50021000090  1.001100e+10         5        I   \n...       ...    ...           ...           ...       ...      ...   \n7238  1661793      2  930021000090  9.300110e+11        93      XIX   \n7264  1661819      2  940021000090  9.400110e+11        94       XX   \n7319  1661874      2  950021000090  9.400110e+11        95       XX   \n7362  1661917      2  960021000090  9.400110e+11        96       XX   \n7428  1661983      2  970021000090  9.700110e+11        97      XXI   \n\n                                    Description_complex  \\\n2                              CHAPTER 1 - LIVE ANIMALS   \n52               CHAPTER 2 - MEAT AND EDIBLE MEAT OFFAL   \n140   CHAPTER 3 - FISH AND CRUSTACEANS, MOLLUSCS AND...   \n416   CHAPTER 4 - DAIRY PRODUCE; BIRDS' EGGS; NATURA...   \n463   CHAPTER 5 - PRODUCTS OF ANIMAL ORIGIN, NOT ELS...   \n...                                                 ...   \n7238  CHAPTER 93 - ARMS AND AMMUNITION; PARTS AND AC...   \n7264  CHAPTER 94 - FURNITURE; BEDDING, MATTRESSES, M...   \n7319  CHAPTER 95 - TOYS, GAMES AND SPORTS REQUISITES...   \n7362   CHAPTER 96 - MISCELLANEOUS MANUFACTURED ARTICLES   \n7428  CHAPTER 97 - WORKS OF ART, COLLECTORS' PIECES ...   \n\n                                            Description  \n2                                          LIVE ANIMALS  \n52                           MEAT AND EDIBLE MEAT OFFAL  \n140   FISH AND CRUSTACEANS, MOLLUSCS AND OTHER AQUAT...  \n416   DAIRY PRODUCE; BIRDS' EGGS; NATURAL HONEY; EDI...  \n463   PRODUCTS OF ANIMAL ORIGIN, NOT ELSEWHERE SPECI...  \n...                                                 ...  \n7238  ARMS AND AMMUNITION; PARTS AND ACCESSORIES THE...  \n7264  FURNITURE; BEDDING, MATTRESSES, MATTRESS SUPPO...  \n7319  TOYS, GAMES AND SPORTS REQUISITES; PARTS AND A...  \n7362                MISCELLANEOUS MANUFACTURED ARTICLES  \n7428      WORKS OF ART, COLLECTORS' PIECES AND ANTIQUES  \n\n[96 rows x 8 columns]",
      "text/html": "<div>\n<style scoped>\n    .dataframe tbody tr th:only-of-type {\n        vertical-align: middle;\n    }\n\n    .dataframe tbody tr th {\n        vertical-align: top;\n    }\n\n    .dataframe thead th {\n        text-align: right;\n    }\n</style>\n<table border=\"1\" class=\"dataframe\">\n  <thead>\n    <tr style=\"text-align: right;\">\n      <th></th>\n      <th>Order</th>\n      <th>Level</th>\n      <th>Code</th>\n      <th>Parent</th>\n      <th>Code_comm</th>\n      <th>Parent.1</th>\n      <th>Description_complex</th>\n      <th>Description</th>\n    </tr>\n  </thead>\n  <tbody>\n    <tr>\n      <th>2</th>\n      <td>1654557</td>\n      <td>2</td>\n      <td>10021000090</td>\n      <td>1.001100e+10</td>\n      <td>1</td>\n      <td>I</td>\n      <td>CHAPTER 1 - LIVE ANIMALS</td>\n      <td>LIVE ANIMALS</td>\n    </tr>\n    <tr>\n      <th>52</th>\n      <td>1654607</td>\n      <td>2</td>\n      <td>20021000090</td>\n      <td>1.001100e+10</td>\n      <td>2</td>\n      <td>I</td>\n      <td>CHAPTER 2 - MEAT AND EDIBLE MEAT OFFAL</td>\n      <td>MEAT AND EDIBLE MEAT OFFAL</td>\n    </tr>\n    <tr>\n      <th>140</th>\n      <td>1654695</td>\n      <td>2</td>\n      <td>30021000090</td>\n      <td>1.001100e+10</td>\n      <td>3</td>\n      <td>I</td>\n      <td>CHAPTER 3 - FISH AND CRUSTACEANS, MOLLUSCS AND...</td>\n      <td>FISH AND CRUSTACEANS, MOLLUSCS AND OTHER AQUAT...</td>\n    </tr>\n    <tr>\n      <th>416</th>\n      <td>1654971</td>\n      <td>2</td>\n      <td>40021000090</td>\n      <td>1.001100e+10</td>\n      <td>4</td>\n      <td>I</td>\n      <td>CHAPTER 4 - DAIRY PRODUCE; BIRDS' EGGS; NATURA...</td>\n      <td>DAIRY PRODUCE; BIRDS' EGGS; NATURAL HONEY; EDI...</td>\n    </tr>\n    <tr>\n      <th>463</th>\n      <td>1655018</td>\n      <td>2</td>\n      <td>50021000090</td>\n      <td>1.001100e+10</td>\n      <td>5</td>\n      <td>I</td>\n      <td>CHAPTER 5 - PRODUCTS OF ANIMAL ORIGIN, NOT ELS...</td>\n      <td>PRODUCTS OF ANIMAL ORIGIN, NOT ELSEWHERE SPECI...</td>\n    </tr>\n    <tr>\n      <th>...</th>\n      <td>...</td>\n      <td>...</td>\n      <td>...</td>\n      <td>...</td>\n      <td>...</td>\n      <td>...</td>\n      <td>...</td>\n      <td>...</td>\n    </tr>\n    <tr>\n      <th>7238</th>\n      <td>1661793</td>\n      <td>2</td>\n      <td>930021000090</td>\n      <td>9.300110e+11</td>\n      <td>93</td>\n      <td>XIX</td>\n      <td>CHAPTER 93 - ARMS AND AMMUNITION; PARTS AND AC...</td>\n      <td>ARMS AND AMMUNITION; PARTS AND ACCESSORIES THE...</td>\n    </tr>\n    <tr>\n      <th>7264</th>\n      <td>1661819</td>\n      <td>2</td>\n      <td>940021000090</td>\n      <td>9.400110e+11</td>\n      <td>94</td>\n      <td>XX</td>\n      <td>CHAPTER 94 - FURNITURE; BEDDING, MATTRESSES, M...</td>\n      <td>FURNITURE; BEDDING, MATTRESSES, MATTRESS SUPPO...</td>\n    </tr>\n    <tr>\n      <th>7319</th>\n      <td>1661874</td>\n      <td>2</td>\n      <td>950021000090</td>\n      <td>9.400110e+11</td>\n      <td>95</td>\n      <td>XX</td>\n      <td>CHAPTER 95 - TOYS, GAMES AND SPORTS REQUISITES...</td>\n      <td>TOYS, GAMES AND SPORTS REQUISITES; PARTS AND A...</td>\n    </tr>\n    <tr>\n      <th>7362</th>\n      <td>1661917</td>\n      <td>2</td>\n      <td>960021000090</td>\n      <td>9.400110e+11</td>\n      <td>96</td>\n      <td>XX</td>\n      <td>CHAPTER 96 - MISCELLANEOUS MANUFACTURED ARTICLES</td>\n      <td>MISCELLANEOUS MANUFACTURED ARTICLES</td>\n    </tr>\n    <tr>\n      <th>7428</th>\n      <td>1661983</td>\n      <td>2</td>\n      <td>970021000090</td>\n      <td>9.700110e+11</td>\n      <td>97</td>\n      <td>XXI</td>\n      <td>CHAPTER 97 - WORKS OF ART, COLLECTORS' PIECES ...</td>\n      <td>WORKS OF ART, COLLECTORS' PIECES AND ANTIQUES</td>\n    </tr>\n  </tbody>\n</table>\n<p>96 rows × 8 columns</p>\n</div>"
     },
     "execution_count": 7,
     "metadata": {},
     "output_type": "execute_result"
    }
   ],
   "source": [
    "#pd.set_option('display.max_rows', None)\n",
    "df_codes = df_codes[df_codes['Code_comm'].notnull()]\n",
    "df_codes\n",
    "df_parents"
   ],
   "metadata": {
    "collapsed": false
   }
  },
  {
   "cell_type": "code",
   "execution_count": 8,
   "outputs": [],
   "source": [
    "def clean_code(text):\n",
    "    text = str(text)\n",
    "    parent_code = None\n",
    "    if len(text) == 11:\n",
    "        code = text[:5]\n",
    "        parent_code = text[:1]\n",
    "    else:\n",
    "        code = text[:6]\n",
    "        parent_code = text[:2]\n",
    "    try:\n",
    "        parent = df_parents[df_parents['Code_comm'] == parent_code]['Description'].values[0]\n",
    "    except:\n",
    "        parent = None\n",
    "    return (code, parent)"
   ],
   "metadata": {
    "collapsed": false
   }
  },
  {
   "cell_type": "code",
   "execution_count": 9,
   "outputs": [
    {
     "data": {
      "text/plain": "   clean_code                                 Description parent_description  \\\n1       10011               LIVE ANIMALS; ANIMAL PRODUCTS       LIVE ANIMALS   \n2       10021                                LIVE ANIMALS       LIVE ANIMALS   \n3       10100       Live horses, asses, mules and hinnies       LIVE ANIMALS   \n5       10121                   Pure-bred breeding horses       LIVE ANIMALS   \n6       10129  Live horses (excl. pure-bred for breeding)       LIVE ANIMALS   \n\n   id_code  \n1        1  \n2        2  \n3        3  \n5        5  \n6        6  ",
      "text/html": "<div>\n<style scoped>\n    .dataframe tbody tr th:only-of-type {\n        vertical-align: middle;\n    }\n\n    .dataframe tbody tr th {\n        vertical-align: top;\n    }\n\n    .dataframe thead th {\n        text-align: right;\n    }\n</style>\n<table border=\"1\" class=\"dataframe\">\n  <thead>\n    <tr style=\"text-align: right;\">\n      <th></th>\n      <th>clean_code</th>\n      <th>Description</th>\n      <th>parent_description</th>\n      <th>id_code</th>\n    </tr>\n  </thead>\n  <tbody>\n    <tr>\n      <th>1</th>\n      <td>10011</td>\n      <td>LIVE ANIMALS; ANIMAL PRODUCTS</td>\n      <td>LIVE ANIMALS</td>\n      <td>1</td>\n    </tr>\n    <tr>\n      <th>2</th>\n      <td>10021</td>\n      <td>LIVE ANIMALS</td>\n      <td>LIVE ANIMALS</td>\n      <td>2</td>\n    </tr>\n    <tr>\n      <th>3</th>\n      <td>10100</td>\n      <td>Live horses, asses, mules and hinnies</td>\n      <td>LIVE ANIMALS</td>\n      <td>3</td>\n    </tr>\n    <tr>\n      <th>5</th>\n      <td>10121</td>\n      <td>Pure-bred breeding horses</td>\n      <td>LIVE ANIMALS</td>\n      <td>5</td>\n    </tr>\n    <tr>\n      <th>6</th>\n      <td>10129</td>\n      <td>Live horses (excl. pure-bred for breeding)</td>\n      <td>LIVE ANIMALS</td>\n      <td>6</td>\n    </tr>\n  </tbody>\n</table>\n</div>"
     },
     "execution_count": 9,
     "metadata": {},
     "output_type": "execute_result"
    }
   ],
   "source": [
    "# Got tuple with clean codes (5-6 digits) and parent description\n",
    "df_codes[['clean_code', 'parent_description']] = df_codes.apply(lambda x: clean_code(x['Code']), axis=1, result_type='expand')\n",
    "df_codes = df_codes[df_codes['clean_code'].notnull()][['clean_code', 'Description', 'parent_description']]\n",
    "df_codes['id_code'] = df_codes.index\n",
    "df_codes['clean_code'] = df_codes['clean_code'].astype('int64')\n",
    "df_codes.head()"
   ],
   "metadata": {
    "collapsed": false
   }
  },
  {
   "cell_type": "markdown",
   "source": [
    "#### Limpiar Countries"
   ],
   "metadata": {
    "collapsed": false
   }
  },
  {
   "cell_type": "code",
   "execution_count": 10,
   "outputs": [
    {
     "data": {
      "text/plain": "    alpha-3                               country    region  \\\n0       AFG                           Afghanistan      Asia   \n1       ALB                               Albania    Europe   \n2       DZA                               Algeria    Africa   \n3       AND                               Andorra    Europe   \n4       AGO                                Angola    Africa   \n..      ...                                   ...       ...   \n268     UMI  United States Minor Outlying Islands   Oceania   \n269     VGB              Virgin Islands (British)  Americas   \n270     VIR                 Virgin Islands (U.S.)  Americas   \n271     WLF                     Wallis and Futuna   Oceania   \n272     ESH                        Western Sahara    Africa   \n\n                          sub-region  id_country  \n0                      Southern Asia           1  \n1                    Southern Europe           2  \n2                    Northern Africa           3  \n3                    Southern Europe           4  \n4                 Sub-Saharan Africa           5  \n..                               ...         ...  \n268                       Micronesia         269  \n269  Latin America and the Caribbean         270  \n270  Latin America and the Caribbean         271  \n271                        Polynesia         272  \n272                  Northern Africa         273  \n\n[249 rows x 5 columns]",
      "text/html": "<div>\n<style scoped>\n    .dataframe tbody tr th:only-of-type {\n        vertical-align: middle;\n    }\n\n    .dataframe tbody tr th {\n        vertical-align: top;\n    }\n\n    .dataframe thead th {\n        text-align: right;\n    }\n</style>\n<table border=\"1\" class=\"dataframe\">\n  <thead>\n    <tr style=\"text-align: right;\">\n      <th></th>\n      <th>alpha-3</th>\n      <th>country</th>\n      <th>region</th>\n      <th>sub-region</th>\n      <th>id_country</th>\n    </tr>\n  </thead>\n  <tbody>\n    <tr>\n      <th>0</th>\n      <td>AFG</td>\n      <td>Afghanistan</td>\n      <td>Asia</td>\n      <td>Southern Asia</td>\n      <td>1</td>\n    </tr>\n    <tr>\n      <th>1</th>\n      <td>ALB</td>\n      <td>Albania</td>\n      <td>Europe</td>\n      <td>Southern Europe</td>\n      <td>2</td>\n    </tr>\n    <tr>\n      <th>2</th>\n      <td>DZA</td>\n      <td>Algeria</td>\n      <td>Africa</td>\n      <td>Northern Africa</td>\n      <td>3</td>\n    </tr>\n    <tr>\n      <th>3</th>\n      <td>AND</td>\n      <td>Andorra</td>\n      <td>Europe</td>\n      <td>Southern Europe</td>\n      <td>4</td>\n    </tr>\n    <tr>\n      <th>4</th>\n      <td>AGO</td>\n      <td>Angola</td>\n      <td>Africa</td>\n      <td>Sub-Saharan Africa</td>\n      <td>5</td>\n    </tr>\n    <tr>\n      <th>...</th>\n      <td>...</td>\n      <td>...</td>\n      <td>...</td>\n      <td>...</td>\n      <td>...</td>\n    </tr>\n    <tr>\n      <th>268</th>\n      <td>UMI</td>\n      <td>United States Minor Outlying Islands</td>\n      <td>Oceania</td>\n      <td>Micronesia</td>\n      <td>269</td>\n    </tr>\n    <tr>\n      <th>269</th>\n      <td>VGB</td>\n      <td>Virgin Islands (British)</td>\n      <td>Americas</td>\n      <td>Latin America and the Caribbean</td>\n      <td>270</td>\n    </tr>\n    <tr>\n      <th>270</th>\n      <td>VIR</td>\n      <td>Virgin Islands (U.S.)</td>\n      <td>Americas</td>\n      <td>Latin America and the Caribbean</td>\n      <td>271</td>\n    </tr>\n    <tr>\n      <th>271</th>\n      <td>WLF</td>\n      <td>Wallis and Futuna</td>\n      <td>Oceania</td>\n      <td>Polynesia</td>\n      <td>272</td>\n    </tr>\n    <tr>\n      <th>272</th>\n      <td>ESH</td>\n      <td>Western Sahara</td>\n      <td>Africa</td>\n      <td>Northern Africa</td>\n      <td>273</td>\n    </tr>\n  </tbody>\n</table>\n<p>249 rows × 5 columns</p>\n</div>"
     },
     "execution_count": 10,
     "metadata": {},
     "output_type": "execute_result"
    }
   ],
   "source": [
    "df_countries = df_countries[['alpha-3', 'country', 'region', 'sub-region']]\n",
    "df_countries = df_countries[df_countries['alpha-3'].notnull()]\n",
    "df_countries['id_country'] = df_countries.index + 1\n",
    "df_countries"
   ],
   "metadata": {
    "collapsed": false
   }
  },
  {
   "cell_type": "markdown",
   "source": [
    "### Create dataframe from csv"
   ],
   "metadata": {
    "collapsed": false
   }
  },
  {
   "cell_type": "code",
   "execution_count": 12,
   "outputs": [],
   "source": [
    "import pandas as pd\n",
    "trades_df = pd.read_csv('trades.csv', dtype={'country_code': 'category', 'comm_code': 'uint32', 'year': 'uint32', 'flow': 'category', 'trade_usd': 'float32', 'kg': 'float32', 'quantity': 'float32', 'quantity_name': 'category'})"
   ],
   "metadata": {
    "collapsed": false
   }
  },
  {
   "cell_type": "markdown",
   "source": [
    "#### Merge df_countries with \"trades\" Postgres table"
   ],
   "metadata": {
    "collapsed": false
   }
  },
  {
   "cell_type": "code",
   "execution_count": 13,
   "outputs": [],
   "source": [
    "# merge\n",
    "df_trades_clean = trades_df.merge(df_codes[['clean_code', 'id_code']], how='left', left_on='comm_code', right_on='clean_code')"
   ],
   "metadata": {
    "collapsed": false
   }
  },
  {
   "cell_type": "code",
   "execution_count": 14,
   "outputs": [],
   "source": [
    "df_trades_clean_short = df_trades_clean.loc[::12,:].copy()"
   ],
   "metadata": {
    "collapsed": false
   }
  },
  {
   "cell_type": "code",
   "execution_count": 11,
   "outputs": [],
   "source": [
    "#df_trades_clean.to_csv('df_trades_clean.csv', index=False)\n",
    "#df_trades_clean = pd.read_csv('df_trades_clean.csv')"
   ],
   "metadata": {
    "collapsed": false
   }
  },
  {
   "cell_type": "code",
   "execution_count": 15,
   "outputs": [
    {
     "data": {
      "text/plain": "       country_code  year  comm_code    flow    trade_usd        kg  \\\n518025          AUS  2008     910990  Import      92284.0    2837.0   \n518026          AUS  2008     911180  Export       2700.0     967.0   \n518027          AUS  2008     911390  Export     131528.0    4250.0   \n518028          AUS  2007     910119  Export    1002215.0    1611.0   \n518029          AUS  2007     910211  Import  134055696.0  990136.0   \n\n         quantity        quantity_name  clean_code  id_code alpha-3  \\\n518025    33051.0      Number of items      910990     7188     AUS   \n518026     4052.0      Number of items      911180     7198     AUS   \n518027     4250.0  Weight in kilograms      911390     7206     AUS   \n518028     6552.0      Number of items      910119     7143     AUS   \n518029  4988213.0      Number of items      910211     7152     AUS   \n\n        id_country  \n518025           9  \n518026           9  \n518027           9  \n518028           9  \n518029           9  ",
      "text/html": "<div>\n<style scoped>\n    .dataframe tbody tr th:only-of-type {\n        vertical-align: middle;\n    }\n\n    .dataframe tbody tr th {\n        vertical-align: top;\n    }\n\n    .dataframe thead th {\n        text-align: right;\n    }\n</style>\n<table border=\"1\" class=\"dataframe\">\n  <thead>\n    <tr style=\"text-align: right;\">\n      <th></th>\n      <th>country_code</th>\n      <th>year</th>\n      <th>comm_code</th>\n      <th>flow</th>\n      <th>trade_usd</th>\n      <th>kg</th>\n      <th>quantity</th>\n      <th>quantity_name</th>\n      <th>clean_code</th>\n      <th>id_code</th>\n      <th>alpha-3</th>\n      <th>id_country</th>\n    </tr>\n  </thead>\n  <tbody>\n    <tr>\n      <th>518025</th>\n      <td>AUS</td>\n      <td>2008</td>\n      <td>910990</td>\n      <td>Import</td>\n      <td>92284.0</td>\n      <td>2837.0</td>\n      <td>33051.0</td>\n      <td>Number of items</td>\n      <td>910990</td>\n      <td>7188</td>\n      <td>AUS</td>\n      <td>9</td>\n    </tr>\n    <tr>\n      <th>518026</th>\n      <td>AUS</td>\n      <td>2008</td>\n      <td>911180</td>\n      <td>Export</td>\n      <td>2700.0</td>\n      <td>967.0</td>\n      <td>4052.0</td>\n      <td>Number of items</td>\n      <td>911180</td>\n      <td>7198</td>\n      <td>AUS</td>\n      <td>9</td>\n    </tr>\n    <tr>\n      <th>518027</th>\n      <td>AUS</td>\n      <td>2008</td>\n      <td>911390</td>\n      <td>Export</td>\n      <td>131528.0</td>\n      <td>4250.0</td>\n      <td>4250.0</td>\n      <td>Weight in kilograms</td>\n      <td>911390</td>\n      <td>7206</td>\n      <td>AUS</td>\n      <td>9</td>\n    </tr>\n    <tr>\n      <th>518028</th>\n      <td>AUS</td>\n      <td>2007</td>\n      <td>910119</td>\n      <td>Export</td>\n      <td>1002215.0</td>\n      <td>1611.0</td>\n      <td>6552.0</td>\n      <td>Number of items</td>\n      <td>910119</td>\n      <td>7143</td>\n      <td>AUS</td>\n      <td>9</td>\n    </tr>\n    <tr>\n      <th>518029</th>\n      <td>AUS</td>\n      <td>2007</td>\n      <td>910211</td>\n      <td>Import</td>\n      <td>134055696.0</td>\n      <td>990136.0</td>\n      <td>4988213.0</td>\n      <td>Number of items</td>\n      <td>910211</td>\n      <td>7152</td>\n      <td>AUS</td>\n      <td>9</td>\n    </tr>\n  </tbody>\n</table>\n</div>"
     },
     "execution_count": 15,
     "metadata": {},
     "output_type": "execute_result"
    }
   ],
   "source": [
    "df_trades_clean = df_trades_clean_short.merge(df_countries[['alpha-3', 'id_country']], how='left', left_on='country_code', right_on='alpha-3')\n",
    "df_trades_clean.tail()"
   ],
   "metadata": {
    "collapsed": false
   }
  },
  {
   "cell_type": "markdown",
   "source": [
    "### Clase 11: Transformación de Datos de Transacciones: flow (import-export)"
   ],
   "metadata": {
    "collapsed": false
   }
  },
  {
   "cell_type": "markdown",
   "source": [
    "#### Clean Trades"
   ],
   "metadata": {
    "collapsed": false
   }
  },
  {
   "cell_type": "code",
   "execution_count": 16,
   "outputs": [],
   "source": [
    "def create_dimension(data, id_name):\n",
    "    keys_list = []\n",
    "    value = 1\n",
    "    for _ in data:\n",
    "        keys_list.append(value)\n",
    "        value = value + 1\n",
    "    return pd.DataFrame({id_name: keys_list, 'values': data})"
   ],
   "metadata": {
    "collapsed": false
   }
  },
  {
   "cell_type": "code",
   "execution_count": 17,
   "outputs": [],
   "source": [
    "quantity_df = create_dimension(df_trades_clean['quantity_name'].unique(), 'id_quantity')\n",
    "flow_df = create_dimension(df_trades_clean['flow'].unique(), 'id_flow')\n",
    "year_df = create_dimension(df_trades_clean['year'].unique(), 'id_year')"
   ],
   "metadata": {
    "collapsed": false
   }
  },
  {
   "cell_type": "code",
   "execution_count": 18,
   "outputs": [
    {
     "data": {
      "text/plain": "   id_flow     values\n0        1  Re-Import\n1        2     Import\n2        3     Export\n3        4  Re-Export",
      "text/html": "<div>\n<style scoped>\n    .dataframe tbody tr th:only-of-type {\n        vertical-align: middle;\n    }\n\n    .dataframe tbody tr th {\n        vertical-align: top;\n    }\n\n    .dataframe thead th {\n        text-align: right;\n    }\n</style>\n<table border=\"1\" class=\"dataframe\">\n  <thead>\n    <tr style=\"text-align: right;\">\n      <th></th>\n      <th>id_flow</th>\n      <th>values</th>\n    </tr>\n  </thead>\n  <tbody>\n    <tr>\n      <th>0</th>\n      <td>1</td>\n      <td>Re-Import</td>\n    </tr>\n    <tr>\n      <th>1</th>\n      <td>2</td>\n      <td>Import</td>\n    </tr>\n    <tr>\n      <th>2</th>\n      <td>3</td>\n      <td>Export</td>\n    </tr>\n    <tr>\n      <th>3</th>\n      <td>4</td>\n      <td>Re-Export</td>\n    </tr>\n  </tbody>\n</table>\n</div>"
     },
     "execution_count": 18,
     "metadata": {},
     "output_type": "execute_result"
    }
   ],
   "source": [
    "quantity_df\n",
    "flow_df"
   ],
   "metadata": {
    "collapsed": false
   }
  },
  {
   "cell_type": "code",
   "execution_count": 19,
   "outputs": [
    {
     "data": {
      "text/plain": "country_code     518030\nyear             518030\ncomm_code        518030\nflow             518030\ntrade_usd        518030\nkg               511548\nquantity         500430\nquantity_name    518030\nclean_code       518030\nid_code          518030\nalpha-3          518030\nid_country       518030\ndtype: int64"
     },
     "execution_count": 19,
     "metadata": {},
     "output_type": "execute_result"
    }
   ],
   "source": [
    "df_trades_clean.count()"
   ],
   "metadata": {
    "collapsed": false
   }
  },
  {
   "cell_type": "code",
   "execution_count": 20,
   "outputs": [],
   "source": [
    "#trades_df_clean = df_trades_clean.loc[::12,:].copy()\n",
    "trades_df_clean = df_trades_clean.copy()"
   ],
   "metadata": {
    "collapsed": false
   }
  },
  {
   "cell_type": "code",
   "execution_count": 21,
   "outputs": [],
   "source": [
    "trades_df_clean = trades_df_clean.merge(quantity_df, how='left', left_on='quantity_name', right_on='values')\n",
    "trades_df_clean = trades_df_clean.merge(flow_df, how='left', left_on='flow', right_on='values')\n",
    "trades_df_clean = trades_df_clean.merge(year_df, how='left', left_on='year', right_on='values')"
   ],
   "metadata": {
    "collapsed": false
   }
  },
  {
   "cell_type": "code",
   "execution_count": 22,
   "outputs": [],
   "source": [
    "trades_df_clean['id_trades'] = trades_df_clean.index + 1"
   ],
   "metadata": {
    "collapsed": false
   }
  },
  {
   "cell_type": "code",
   "execution_count": 23,
   "outputs": [
    {
     "data": {
      "text/plain": "country_code     518030\nyear             518030\ncomm_code        518030\nflow             518030\ntrade_usd        518030\nkg               511548\nquantity         500430\nquantity_name    518030\nclean_code       518030\nid_code          518030\nalpha-3          518030\nid_country       518030\nid_quantity      518030\nvalues_x         518030\nid_flow          518030\nvalues_y         518030\nid_year          518030\nvalues           518030\nid_trades        518030\ndtype: int64"
     },
     "execution_count": 23,
     "metadata": {},
     "output_type": "execute_result"
    }
   ],
   "source": [
    "trades_df_clean.count()"
   ],
   "metadata": {
    "collapsed": false
   }
  },
  {
   "cell_type": "markdown",
   "source": [
    "#### Tabla de Hechos (trades)"
   ],
   "metadata": {
    "collapsed": false
   }
  },
  {
   "cell_type": "code",
   "execution_count": 24,
   "outputs": [],
   "source": [
    "trades_df_final = trades_df_clean[['id_trades', 'trade_usd', 'kg', 'quantity', 'id_code', 'id_country', 'id_quantity', 'id_flow', 'id_year']].copy()"
   ],
   "metadata": {
    "collapsed": false
   }
  },
  {
   "cell_type": "code",
   "execution_count": 25,
   "outputs": [
    {
     "data": {
      "text/plain": "id_trades      10793\ntrade_usd      10793\nkg             10666\nquantity       10450\nid_code        10793\nid_country     10793\nid_quantity    10793\nid_flow        10793\nid_year        10793\ndtype: int64"
     },
     "execution_count": 25,
     "metadata": {},
     "output_type": "execute_result"
    }
   ],
   "source": [
    "trades_df_final.count()"
   ],
   "metadata": {
    "collapsed": false
   }
  },
  {
   "cell_type": "markdown",
   "source": [
    "#### Dimensiones: df_countries y df_codes"
   ],
   "metadata": {
    "collapsed": false
   }
  },
  {
   "cell_type": "code",
   "execution_count": 26,
   "outputs": [],
   "source": [
    "df_countries = df_countries[['id_country', 'alpha-3', 'country', 'region', 'sub-region']].copy()"
   ],
   "metadata": {
    "collapsed": false
   }
  },
  {
   "cell_type": "code",
   "execution_count": 27,
   "outputs": [],
   "source": [
    "df_codes = df_codes[['id_code', 'clean_code', 'Description', 'parent_description']].copy()"
   ],
   "metadata": {
    "collapsed": false
   }
  },
  {
   "cell_type": "markdown",
   "source": [
    "### Load"
   ],
   "metadata": {
    "collapsed": false
   }
  },
  {
   "cell_type": "code",
   "execution_count": 95,
   "outputs": [],
   "source": [
    "trades_df_final.to_csv('target/trades.csv', index=False, sep='|')\n",
    "df_countries.to_csv('target/countries.csv', index=False, sep='|')\n",
    "df_codes.to_csv('target/codes.csv', index=False, sep='|')\n",
    "quantity_df.to_csv('target/quantity.csv', index=False, sep='|')\n",
    "flow_df.to_csv('target/flow.csv', index=False, sep='|')\n",
    "year_df.to_csv('target/years.csv', index=False, sep='|')"
   ],
   "metadata": {
    "collapsed": false
   }
  },
  {
   "cell_type": "code",
   "execution_count": 122,
   "outputs": [],
   "source": [
    "import os\n",
    "import boto3\n",
    "import redshift_connector\n",
    "\n",
    "client = boto3.client(\n",
    "    's3',\n",
    "    aws_access_key_id = os.environ.get('aws_access_key_id'),\n",
    "    aws_secret_access_key = os.environ.get('aws_secret_access_key')\n",
    ")\n",
    "\n",
    "conn = redshift_connector.connect(\n",
    "    host = os.environ.get('redshift_host'),\n",
    "    database = os.environ.get('redshift_database'),\n",
    "    port = 5439,\n",
    "    user = os.environ.get('redshift_user'),\n",
    "    password = os.environ.get('redshift_password')\n",
    ")\n",
    "\n",
    "cursor = conn.cursor()"
   ],
   "metadata": {
    "collapsed": false
   }
  },
  {
   "cell_type": "code",
   "execution_count": 111,
   "outputs": [],
   "source": [
    "conn.close()"
   ],
   "metadata": {
    "collapsed": false
   }
  },
  {
   "cell_type": "code",
   "execution_count": 109,
   "outputs": [],
   "source": [
    "# función para subir datos a s3 mediante un COPY de redshift (ingesta de datos a s3)\n",
    "def load_file(file_name):\n",
    "    table_name = file_name.split('.')[0]\n",
    "    client.upload_file(\n",
    "        Filename='target/{}'.format(file_name),\n",
    "        Bucket = 'bucket-etl-redshift',\n",
    "        Key='course_etl_target/{}'.format(file_name)\n",
    "    )\n",
    "# Sentencia COPY de redshift\n",
    "    sentence = '''copy public.{} from 's3://bucket-etl-redshift/course_etl_target/{}' credentials 'aws_access_key_id={};aws_secret_access_key={}' csv delimiter '|' region 'us-west-2' ignoreheader 1'''.format(table_name, file_name, os.environ.get('aws_access_key_id'), os.environ.get('aws_secret_access_key'))\n",
    "    try:\n",
    "        cursor.execute(sentence)\n",
    "        print('Ok en la tabla ' + table_name)\n",
    "    except:\n",
    "        print('Error en la tabla ' + table_name)"
   ],
   "metadata": {
    "collapsed": false
   }
  },
  {
   "cell_type": "code",
   "execution_count": 123,
   "outputs": [
    {
     "name": "stdout",
     "output_type": "stream",
     "text": [
      "Ok en la tabla years\n"
     ]
    }
   ],
   "source": [
    "# Cargar los datos a las tablas creadas anteriormente con el script de sql\n",
    "#load_file('trades.csv')\n",
    "#load_file('countries.csv')\n",
    "#load_file('codes.csv')\n",
    "#load_file('quantity.csv')\n",
    "#load_file('flow.csv')\n",
    "#load_file('years.csv')"
   ],
   "metadata": {
    "collapsed": false
   }
  },
  {
   "cell_type": "code",
   "execution_count": 125,
   "outputs": [],
   "source": [
    "# Ejecutamos los cambios\n",
    "conn.commit()"
   ],
   "metadata": {
    "collapsed": false
   }
  },
  {
   "cell_type": "code",
   "execution_count": 126,
   "outputs": [],
   "source": [
    "# cerramos la conexión\n",
    "conn.close()"
   ],
   "metadata": {
    "collapsed": false
   }
  }
 ],
 "metadata": {
  "kernelspec": {
   "display_name": "Python 3",
   "language": "python",
   "name": "python3"
  },
  "language_info": {
   "codemirror_mode": {
    "name": "ipython",
    "version": 2
   },
   "file_extension": ".py",
   "mimetype": "text/x-python",
   "name": "python",
   "nbconvert_exporter": "python",
   "pygments_lexer": "ipython2",
   "version": "2.7.6"
  }
 },
 "nbformat": 4,
 "nbformat_minor": 0
}
